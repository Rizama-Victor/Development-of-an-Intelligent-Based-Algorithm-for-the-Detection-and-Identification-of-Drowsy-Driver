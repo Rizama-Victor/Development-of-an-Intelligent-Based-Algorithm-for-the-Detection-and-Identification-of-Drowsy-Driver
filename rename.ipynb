{
 "cells": [
  {
   "cell_type": "code",
   "execution_count": 3,
   "id": "a1b5f4cf-1730-4f94-94fd-c4933ee0ded7",
   "metadata": {},
   "outputs": [],
   "source": [
    "# # %load C:\\Users\\HP\\Desktop\\PTDF_UAV_Project\\rename_file.py\n",
    "import os\n",
    "# alpha = \"a\"\n",
    "folder = \"All_Affected_Augmented\"\n",
    "\n",
    "files = os.listdir(folder)\n",
    "# os.getcwd()\n",
    "\n",
    "# pwd # prints working directory"
   ]
  },
  {
   "cell_type": "code",
   "execution_count": 5,
   "id": "57915738-d424-4a63-80cd-2ba41b9ff263",
   "metadata": {},
   "outputs": [],
   "source": [
    "jpg_files = [f for f in files if f.endswith(\".jpg\")]\n",
    "\n",
    "for co_unt, filename_a in enumerate(jpg_files, start=11374):\n",
    "    dst_png = f\"{str(co_unt)}.jpg\"\n",
    "    \n",
    "    src =f\"{folder}/{filename_a}\"  # foldername/filename, if .py file is outside folder\n",
    "    dst_png =f\"{folder}/{dst_png}\"\n",
    "        \n",
    "    # rename() function will\n",
    "    # rename all the files\n",
    "    os.rename(src, dst_png)"
   ]
  },
  {
   "cell_type": "code",
   "execution_count": 6,
   "id": "1b1bf9fb-003f-4063-b7fc-49453fd0681f",
   "metadata": {},
   "outputs": [],
   "source": [
    "txt_files = [f for f in files if f.endswith(\".txt\")]\n",
    "\n",
    "for co_unt, filename_b in enumerate(txt_files, start=11374):\n",
    "    dst_txt = f\"{str(co_unt)}.txt\"\n",
    "\n",
    "    src =f\"{folder}/{filename_b}\"  # foldername/filename, if .py file is outside folder\n",
    "    dst_txt =f\"{folder}/{dst_txt}\"\n",
    "        \n",
    "    # rename() function will\n",
    "    # rename all the files\n",
    "    os.rename(src, dst_txt)"
   ]
  }
 ],
 "metadata": {
  "kernelspec": {
   "display_name": "Python 3 (ipykernel)",
   "language": "python",
   "name": "python3"
  },
  "language_info": {
   "codemirror_mode": {
    "name": "ipython",
    "version": 3
   },
   "file_extension": ".py",
   "mimetype": "text/x-python",
   "name": "python",
   "nbconvert_exporter": "python",
   "pygments_lexer": "ipython3",
   "version": "3.11.11"
  }
 },
 "nbformat": 4,
 "nbformat_minor": 5
}
